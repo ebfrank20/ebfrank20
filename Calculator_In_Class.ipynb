{
  "nbformat": 4,
  "nbformat_minor": 0,
  "metadata": {
    "colab": {
      "provenance": [],
      "authorship_tag": "ABX9TyPlbZwf6jo9Deryo4Q9ynYH",
      "include_colab_link": true
    },
    "kernelspec": {
      "name": "python3",
      "display_name": "Python 3"
    },
    "language_info": {
      "name": "python"
    }
  },
  "cells": [
    {
      "cell_type": "markdown",
      "metadata": {
        "id": "view-in-github",
        "colab_type": "text"
      },
      "source": [
        "<a href=\"https://colab.research.google.com/github/ebfrank20/ebfrank20/blob/main/Calculator_In_Class.ipynb\" target=\"_parent\"><img src=\"https://colab.research.google.com/assets/colab-badge.svg\" alt=\"Open In Colab\"/></a>"
      ]
    },
    {
      "cell_type": "code",
      "execution_count": null,
      "metadata": {
        "id": "mxx0h7B1iXXC"
      },
      "outputs": [],
      "source": [
        "while True:\n",
        "  operator = input(\"Enter the operator: \")\n",
        "\n",
        "  if operator == 'break':\n",
        "      break\n",
        "\n",
        "  num1 = float(input(\"Enter the first number: \"))\n",
        "  num2 = float(input(\"Enter the second number: \"))\n",
        "\n",
        "\n",
        "  if operator == '+':\n",
        "    print('(num1) + (num2) = (num1 + num2)')\n",
        "  elif operator == '-':\n",
        "    print('(num1) - (num2) = (num1 - num2)')\n",
        "  elif operator == '*':\n",
        "    print('(num1) * (num2) = (num1 * num2)')\n",
        "  elif operator == '**':\n",
        "    print('(num1) ** (num2) = (num1 ** num2)')\n",
        "  elif operator == '/':\n",
        "    print('(num1) / (num2) = (num1 / num2)')\n",
        "  elif operator == '//':\n",
        "    print('(num1) // (num2) = (num1 // num2)')\n",
        "  elif operator == '%':\n",
        "    print('(num1) module (num2) = (int(num1) % int(num2))')\n",
        "  else:\n",
        "    print(\"Invalid operator: \", operator)\n",
        "    continue\n"
      ]
    }
  ]
}