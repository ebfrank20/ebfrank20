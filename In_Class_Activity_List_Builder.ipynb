{
  "nbformat": 4,
  "nbformat_minor": 0,
  "metadata": {
    "colab": {
      "provenance": [],
      "authorship_tag": "ABX9TyNl4wuRCRbk9vQCklk1jSa4",
      "include_colab_link": true
    },
    "kernelspec": {
      "name": "python3",
      "display_name": "Python 3"
    },
    "language_info": {
      "name": "python"
    }
  },
  "cells": [
    {
      "cell_type": "markdown",
      "metadata": {
        "id": "view-in-github",
        "colab_type": "text"
      },
      "source": [
        "<a href=\"https://colab.research.google.com/github/ebfrank20/ebfrank20/blob/main/In_Class_Activity_List_Builder.ipynb\" target=\"_parent\"><img src=\"https://colab.research.google.com/assets/colab-badge.svg\" alt=\"Open In Colab\"/></a>"
      ]
    },
    {
      "cell_type": "code",
      "execution_count": 9,
      "metadata": {
        "colab": {
          "base_uri": "https://localhost:8080/"
        },
        "id": "GUlHvxC1A1QW",
        "outputId": "ce03bef9-c1dc-4b79-9cbb-6ba75041a950"
      },
      "outputs": [
        {
          "output_type": "stream",
          "name": "stdout",
          "text": [
            "Enter an integer: 9\n",
            "Enter an integer: 8\n",
            "Enter an integer: 7\n",
            "Enter an integer: 0\n",
            "[9, 8, 7]\n"
          ]
        }
      ],
      "source": [
        "s=int(input('Enter an integer: '))\n",
        "A = []\n",
        "while s != 0:\n",
        "  A.append(s)\n",
        "  s=int(input('Enter an integer: '))\n",
        "print(A)"
      ]
    }
  ]
}