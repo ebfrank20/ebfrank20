{
  "nbformat": 4,
  "nbformat_minor": 0,
  "metadata": {
    "colab": {
      "provenance": [],
      "include_colab_link": true
    },
    "kernelspec": {
      "name": "python3",
      "display_name": "Python 3"
    },
    "language_info": {
      "name": "python"
    }
  },
  "cells": [
    {
      "cell_type": "markdown",
      "metadata": {
        "id": "view-in-github",
        "colab_type": "text"
      },
      "source": [
        "<a href=\"https://colab.research.google.com/github/ebfrank20/ebfrank20/blob/main/ProblemSet1.ipynb\" target=\"_parent\"><img src=\"https://colab.research.google.com/assets/colab-badge.svg\" alt=\"Open In Colab\"/></a>"
      ]
    },
    {
      "cell_type": "markdown",
      "source": [
        "# Problem Set 2"
      ],
      "metadata": {
        "id": "mqKVIuY-mxNU"
      }
    },
    {
      "cell_type": "markdown",
      "source": [
        "## Assignment 1: Quality Control (7 points)\n",
        "\n",
        "A quality control manager would like to find the average weight of a list of weights. Prior experience indicates that the first two measures are atypical, and the practice is to exclude these from the average calculation.\n",
        "\n",
        "Write a program that calculates the average of a list of numbers that given as inputs from the user, excluding the first three values.\n",
        "\n",
        "For your program, you must define and use the following functions:\n",
        "- `getValues(n)`: Prompt the user for `n` values, returns the list\n",
        "- `calcAverage(alist)`: Calculates the average from the list"
      ],
      "metadata": {
        "id": "-RSYW1jVm08n"
      }
    },
    {
      "cell_type": "code",
      "execution_count": null,
      "metadata": {
        "id": "AqbgJkgNmvQw",
        "colab": {
          "base_uri": "https://localhost:8080/"
        },
        "outputId": "70dd83ad-9965-4609-def0-dec965d41e41"
      },
      "outputs": [
        {
          "output_type": "stream",
          "name": "stdout",
          "text": [
            "How many weights do you want to give?: 4\n",
            "Enter a weight: 5\n",
            "Enter a weight: 6\n",
            "Enter a weight: 7\n",
            "Enter a weight: 8\n",
            "Average weight: 7.5\n"
          ]
        }
      ],
      "source": [
        "def getValues(n):\n",
        "  weights = []\n",
        "  for i in range(n):\n",
        "    weight = float(input(\"Enter a weight: \"))\n",
        "    weights.append(weight)\n",
        "\n",
        "  return weights[2:]\n",
        "\n",
        "def calcAverage(alist):\n",
        "  return sum(alist)/len(alist)\n",
        "\n",
        "n = int(input(\"How many weights do you want to give?: \"))\n",
        "L = getValues(n)\n",
        "avg = calcAverage(L)\n",
        "print(f'Average weight: {avg}')"
      ]
    },
    {
      "cell_type": "markdown",
      "source": [
        "## Assignment 2: Country Statistics Lookup-Multiple Measures (6 points)\n",
        "\n",
        "Assume a program begins with the statement:\n",
        "\n",
        "```python\n",
        "allData = { # dictionary of values for countries\n",
        "    'US': {'pop':325.7, 'gdp': 19.39, 'ccy': 'USD', 'fx':  1.0},\n",
        "    'CA': {'pop': 36.5, 'gdp':  1.65, 'ccy': 'CAD', 'fx':  1.35},\n",
        "    'MX': {'pop':129.2, 'gdp':  1.15, 'ccy': 'MXN', 'fx': 19.68}\n",
        "    }\n",
        "```\n",
        "\n",
        "Write subsequent statements that (in a loop) prompt the user for a country code (`US`, `CA`, or `MX`), then prompt for a measure name (`pop`, `gdp`, `ccy`, or `fx`), then look up in the above dictionary for the corresponding value, and display it.\n",
        "\n",
        "Example run:\n",
        "```\n",
        "Please enter a country code: CA\n",
        "Please enter a statistic: pop\n",
        "CA pop = 36.5\n",
        "```\n",
        "\n",
        "Your program should handle the cases where a user-entered country code or measure name is not found."
      ],
      "metadata": {
        "id": "QFO0Kzx8ncnv"
      }
    },
    {
      "cell_type": "code",
      "source": [
        "allData = { # dictionary of values for countries\n",
        "    'US': {'pop':325.7, 'gdp': 19.39, 'ccy': 'USD', 'fx':  1.0},\n",
        "    'CA': {'pop': 36.5, 'gdp':  1.65, 'ccy': 'CAD', 'fx':  1.35},\n",
        "    'MX': {'pop':129.2, 'gdp':  1.15, 'ccy': 'MXN', 'fx': 19.68}\n",
        "    }\n",
        "\n",
        "while True:\n",
        "  country = input('Enter a country code: ')\n",
        "  if country not in allData.keys():\n",
        "    print('Country not found')\n",
        "    continue\n",
        "\n",
        "  statistic = input('Enter a statistic: ')\n",
        "  if statistic not in allData[country]:\n",
        "    print('Statistic not found')\n",
        "    continue\n",
        "\n",
        "  value = allData[country][statistic]\n",
        "  print(f'{country} {statistic} =', value)\n",
        "\n",
        "  cont = input('Continue? (y/n): ')\n",
        "  if cont == 'y':\n",
        "    continue\n",
        "  else:\n",
        "    break"
      ],
      "metadata": {
        "id": "NZFjRINKowEW",
        "colab": {
          "base_uri": "https://localhost:8080/"
        },
        "outputId": "c12d2c00-14e4-4648-f40d-59ee74450618"
      },
      "execution_count": 21,
      "outputs": [
        {
          "name": "stdout",
          "output_type": "stream",
          "text": [
            "Enter a country code: US\n",
            "Enter a statistic: pop\n",
            "US pop = 325.7\n",
            "Continue? (y/n): y\n",
            "Enter a country code: MX\n",
            "Enter a statistic: ccy\n",
            "MX ccy = MXN\n",
            "Continue? (y/n): n\n"
          ]
        }
      ]
    },
    {
      "cell_type": "markdown",
      "source": [
        "## Assignment 3: Parking Garage (6 points)\n",
        "\n",
        "Write a program to compute the fee for parking in a garage for a number of hours.\n",
        "\n",
        "The program should:\n",
        "- Prompt the user for how many hours parked\n",
        "- Calculate the fee based on the following rules:\n",
        "  - $2.50/hour\n",
        "\n",
        "  - minimum fee is $6.00\n",
        "\n",
        "  - maximum fee is $20.00\n",
        "- Print the result\n",
        "\n",
        "For your program, define and use the following two functions:\n",
        "```python\n",
        "# use input() to prompt for the # of hours parked, return this value\n",
        "def getParkingHours()\n",
        "\n",
        "# takes as input hours (a number), returns the parking fee\n",
        "def calcParkingFee()\n",
        "```"
      ],
      "metadata": {
        "id": "GjaUFrnfpKFf"
      }
    },
    {
      "cell_type": "code",
      "source": [
        "def getParkingHours():\n",
        "  return float(input('Enter number of hours: '))\n",
        "\n",
        "def calcParkingFee(hours):\n",
        "  if hours * 2.5 < 6:\n",
        "    return 6\n",
        "  if hours * 2.5 > 20:\n",
        "    return 20\n",
        "  else:\n",
        "    return hours * 2.5\n",
        "\n",
        "hours = getParkingHours()\n",
        "fee = calcParkingFee(hours)\n",
        "print(f'charge: ${fee}')"
      ],
      "metadata": {
        "id": "5ha4O3V5pwNN",
        "colab": {
          "base_uri": "https://localhost:8080/"
        },
        "outputId": "1b316bb2-a736-4296-c95d-b1a1180a0898"
      },
      "execution_count": null,
      "outputs": [
        {
          "output_type": "stream",
          "name": "stdout",
          "text": [
            "Enter number of hours: 4\n",
            "charge: $10.0\n"
          ]
        }
      ]
    },
    {
      "cell_type": "markdown",
      "source": [
        "## Assignment 4: Tuition (6 points)\n",
        "\n",
        "A college charges tuition according to the following:\n",
        "- 12 or more credits: $20,000/semester\n",
        "\n",
        "- 1-11 credits: $1,200 + $1,700 per credit\n",
        "\n",
        "Write a program that prompts the user for a number of credits and determines and displays the tuition for the semester. As part of your program, define and use the following function:\n",
        "```python\n",
        "def calcTuition(credits)\n",
        "```\n",
        "The function returns the tuition for a given number of credits"
      ],
      "metadata": {
        "id": "gipBObe5qm-2"
      }
    },
    {
      "cell_type": "code",
      "source": [
        "def calcTuition(credits):\n",
        "  if credits >= 12:\n",
        "    return 20000\n",
        "  if credits < 1:\n",
        "    print('Invalid number')\n",
        "    return 0\n",
        "  else:\n",
        "    return 1200 + (1700 * credits)\n",
        "\n",
        "credits = int(input('Enter number of credits: '))\n",
        "print(f' Tuition is ${calcTuition(credits)}')"
      ],
      "metadata": {
        "id": "BPcn9ywzrL8y",
        "colab": {
          "base_uri": "https://localhost:8080/"
        },
        "outputId": "43feffd5-1cb8-492b-a661-7227d81895ed"
      },
      "execution_count": 34,
      "outputs": [
        {
          "output_type": "stream",
          "name": "stdout",
          "text": [
            "Enter number of credits: 11\n",
            " Tuition is $19900\n"
          ]
        }
      ]
    }
  ]
}