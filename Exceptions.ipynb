{
  "nbformat": 4,
  "nbformat_minor": 0,
  "metadata": {
    "colab": {
      "provenance": [],
      "authorship_tag": "ABX9TyMUsNYfDD95MXb1RS3yMS2v",
      "include_colab_link": true
    },
    "kernelspec": {
      "name": "python3",
      "display_name": "Python 3"
    },
    "language_info": {
      "name": "python"
    }
  },
  "cells": [
    {
      "cell_type": "markdown",
      "metadata": {
        "id": "view-in-github",
        "colab_type": "text"
      },
      "source": [
        "<a href=\"https://colab.research.google.com/github/ebfrank20/ebfrank20/blob/main/Exceptions.ipynb\" target=\"_parent\"><img src=\"https://colab.research.google.com/assets/colab-badge.svg\" alt=\"Open In Colab\"/></a>"
      ]
    },
    {
      "cell_type": "code",
      "execution_count": 1,
      "metadata": {
        "colab": {
          "base_uri": "https://localhost:8080/"
        },
        "id": "6xCA5XOWr2dZ",
        "outputId": "94f0f920-359b-4b8d-c1fb-01d196fe16b8"
      },
      "outputs": [
        {
          "output_type": "stream",
          "name": "stdout",
          "text": [
            "Enter a numerator: 5\n",
            "Enter a denominator: 0\n",
            "Denominator is zero\n",
            "This will be displayed always\n",
            "Program End\n"
          ]
        }
      ],
      "source": [
        "try:\n",
        "  a = float(input('Enter a numerator: '))\n",
        "  b = float(input('Enter a denominator: '))\n",
        "  print(a/b)\n",
        "  print('Division Complete')\n",
        "except ZeroDivisionError:\n",
        "  print('Denominator is zero')\n",
        "except ValueError:\n",
        "  print('Incompatible input type; cannot be cast to numeric')\n",
        "except:\n",
        "  print('Unknown Error')\n",
        "else:\n",
        "  print('Division Complete')\n",
        "finally:\n",
        "  print('This will be displayed always')\n",
        "\n",
        "print('Program End')"
      ]
    }
  ]
}