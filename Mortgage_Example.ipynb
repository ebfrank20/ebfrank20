{
  "nbformat": 4,
  "nbformat_minor": 0,
  "metadata": {
    "colab": {
      "provenance": [],
      "authorship_tag": "ABX9TyN/2AxHWk9lIkRRsjQdF5IK",
      "include_colab_link": true
    },
    "kernelspec": {
      "name": "python3",
      "display_name": "Python 3"
    },
    "language_info": {
      "name": "python"
    }
  },
  "cells": [
    {
      "cell_type": "markdown",
      "metadata": {
        "id": "view-in-github",
        "colab_type": "text"
      },
      "source": [
        "<a href=\"https://colab.research.google.com/github/ebfrank20/ebfrank20/blob/main/Mortgage_Example.ipynb\" target=\"_parent\"><img src=\"https://colab.research.google.com/assets/colab-badge.svg\" alt=\"Open In Colab\"/></a>"
      ]
    },
    {
      "cell_type": "code",
      "execution_count": null,
      "metadata": {
        "id": "DvXP3m3CI77_"
      },
      "outputs": [],
      "source": [
        "# Example: fixed monthly mortgage\n",
        "# Properties:\n",
        "#  Initial loan amount ($)\n",
        "#  Term to maturity (years)\n",
        "#  Fixed annual interest rate (%)\n",
        "# Specific Example: $100,000 30 years 6%\n",
        "# Calculation: how much is the monthly payment?\n",
        "#  Initial amount B, term n (in months), interest rate r (in deimal)\n",
        "#  M = B[r(1+r)^n] / [(1+r^n) - 1]"
      ]
    },
    {
      "cell_type": "code",
      "source": [
        "class Mortgage:\n",
        "  def __init__(self, initial_amnt, term, rate):\n",
        "    self.initial_amnt = initial_amnt\n",
        "    self.term = term\n",
        "    self.rate = rate\n",
        "\n",
        "  def payment(self):\n",
        "    B = self.initial_amnt\n",
        "    n = self.term * 12\n",
        "    r = self.rate/100\n",
        "    return B*(r*((1+r)**n))/(((1+r)**n) - 1)"
      ],
      "metadata": {
        "id": "41LAzEZ_Jmcc"
      },
      "execution_count": 11,
      "outputs": []
    },
    {
      "cell_type": "code",
      "source": [
        "m = Mortgage(100000, 30, 6)\n",
        "\n",
        "m.payment()\n"
      ],
      "metadata": {
        "colab": {
          "base_uri": "https://localhost:8080/"
        },
        "id": "PRw45pK6LHdx",
        "outputId": "c76f9a5f-6c2d-4640-d453-02f4973e6a00"
      },
      "execution_count": 12,
      "outputs": [
        {
          "output_type": "execute_result",
          "data": {
            "text/plain": [
              "6000.000004656286"
            ]
          },
          "metadata": {},
          "execution_count": 12
        }
      ]
    }
  ]
}