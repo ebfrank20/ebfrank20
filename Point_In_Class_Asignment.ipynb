{
  "nbformat": 4,
  "nbformat_minor": 0,
  "metadata": {
    "colab": {
      "provenance": [],
      "authorship_tag": "ABX9TyMf2kBgI56/KMj99Ak3UE8E",
      "include_colab_link": true
    },
    "kernelspec": {
      "name": "python3",
      "display_name": "Python 3"
    },
    "language_info": {
      "name": "python"
    }
  },
  "cells": [
    {
      "cell_type": "markdown",
      "metadata": {
        "id": "view-in-github",
        "colab_type": "text"
      },
      "source": [
        "<a href=\"https://colab.research.google.com/github/ebfrank20/ebfrank20/blob/main/Point_In_Class_Asignment.ipynb\" target=\"_parent\"><img src=\"https://colab.research.google.com/assets/colab-badge.svg\" alt=\"Open In Colab\"/></a>"
      ]
    },
    {
      "cell_type": "code",
      "execution_count": null,
      "metadata": {
        "id": "yuAP1RLIFTBR"
      },
      "outputs": [],
      "source": [
        "# Define a class named Point\n",
        "# It will represent apoint in x-y coordinate space\n",
        "# Attriutes:\n",
        "#   x (int)\n",
        "#   y (int)\n",
        "# It will have a method named distance which calculates the distance between two points"
      ]
    },
    {
      "cell_type": "code",
      "source": [
        "class Point:\n",
        "  def __init__(self, x, y):\n",
        "    self.x = x\n",
        "    self.y = y\n",
        "\n",
        "  def distance(self, other):\n",
        "    x_diff = (self.x - other.x) ** 2\n",
        "    y_diff = (self.y - other.y) ** 2\n",
        "    return(x_diff + y_diff) ** 0.5\n",
        "\n",
        "p1 = Point(3,4)\n",
        "p2 = Point(6,8)\n",
        "print(p1.distance(p2)) # order of p1 and p2 does not matter"
      ],
      "metadata": {
        "colab": {
          "base_uri": "https://localhost:8080/"
        },
        "id": "jLau0-bMFo6w",
        "outputId": "52ef27d9-9df5-41b1-e75c-c414da70bb4d"
      },
      "execution_count": 1,
      "outputs": [
        {
          "output_type": "stream",
          "name": "stdout",
          "text": [
            "5.0\n"
          ]
        }
      ]
    },
    {
      "cell_type": "code",
      "source": [
        "class Point3D(Point):\n",
        "  def __init__(self, x, y, z):\n",
        "    super().__init__(x, y)\n",
        "    self.z = z"
      ],
      "metadata": {
        "id": "BbD2yt-mIX0V"
      },
      "execution_count": null,
      "outputs": []
    }
  ]
}