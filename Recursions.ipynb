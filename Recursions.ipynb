{
  "nbformat": 4,
  "nbformat_minor": 0,
  "metadata": {
    "colab": {
      "provenance": [],
      "authorship_tag": "ABX9TyPxXFUUCep6trZRR+5eX97f",
      "include_colab_link": true
    },
    "kernelspec": {
      "name": "python3",
      "display_name": "Python 3"
    },
    "language_info": {
      "name": "python"
    }
  },
  "cells": [
    {
      "cell_type": "markdown",
      "metadata": {
        "id": "view-in-github",
        "colab_type": "text"
      },
      "source": [
        "<a href=\"https://colab.research.google.com/github/ebfrank20/ebfrank20/blob/main/Recursions.ipynb\" target=\"_parent\"><img src=\"https://colab.research.google.com/assets/colab-badge.svg\" alt=\"Open In Colab\"/></a>"
      ]
    },
    {
      "cell_type": "code",
      "execution_count": null,
      "metadata": {
        "colab": {
          "base_uri": "https://localhost:8080/"
        },
        "id": "CYmJ9ehYnvD6",
        "outputId": "6e9413fd-49d2-44a7-ce90-c0a4be88153b"
      },
      "outputs": [
        {
          "output_type": "stream",
          "name": "stdout",
          "text": [
            "5\n",
            "4\n",
            "3\n",
            "2\n",
            "1\n",
            "0\n"
          ]
        }
      ],
      "source": [
        "def countdown(n):\n",
        "  while n >= 0:\n",
        "    print(n)\n",
        "    n = n-1\n",
        "\n",
        "countdown(5)"
      ]
    },
    {
      "cell_type": "code",
      "source": [
        "# Must define two cases for recursions:\n",
        "# Base case: trivialized version of the problem\n",
        "# Inductive(recursive) case: split problem into smaller, simpler versions of itself"
      ],
      "metadata": {
        "id": "aSQI1lRyqrFX"
      },
      "execution_count": null,
      "outputs": []
    },
    {
      "cell_type": "code",
      "source": [
        "def recursive_countdown(n):\n",
        "  if n == 0: # base case\n",
        "    print(0)\n",
        "  else: # inductive case\n",
        "    print(n)\n",
        "    recursive_countdown(n-1)\n",
        "\n",
        "recursive_countdown(5)\n"
      ],
      "metadata": {
        "colab": {
          "base_uri": "https://localhost:8080/"
        },
        "id": "Yl4oj49hr7bt",
        "outputId": "b8f52c9e-3846-4c71-c082-a39e52a47710"
      },
      "execution_count": null,
      "outputs": [
        {
          "output_type": "stream",
          "name": "stdout",
          "text": [
            "5\n",
            "4\n",
            "3\n",
            "2\n",
            "1\n",
            "0\n"
          ]
        }
      ]
    },
    {
      "cell_type": "code",
      "source": [
        "def summation(n):\n",
        "  s = 0\n",
        "  while n >= 0:\n",
        "    s = s + n\n",
        "    n = n - 1\n",
        "  return s\n",
        "\n",
        "summation(3)"
      ],
      "metadata": {
        "colab": {
          "base_uri": "https://localhost:8080/"
        },
        "id": "NBmxG26du26i",
        "outputId": "8cc55a5e-52cc-4093-a705-770362d9475c"
      },
      "execution_count": null,
      "outputs": [
        {
          "output_type": "execute_result",
          "data": {
            "text/plain": [
              "6"
            ]
          },
          "metadata": {},
          "execution_count": 3
        }
      ]
    },
    {
      "cell_type": "code",
      "source": [
        "def recursive_summation(n):\n",
        "  if n == 0:\n",
        "    return 0\n",
        "  else:\n",
        "    return n + recursive_summation(n-1)\n",
        "\n",
        "recursive_summation(3)"
      ],
      "metadata": {
        "colab": {
          "base_uri": "https://localhost:8080/"
        },
        "id": "NhXCuVLAxUo7",
        "outputId": "afd5192c-f7a7-4ea1-a9fa-6f3e2932f580"
      },
      "execution_count": null,
      "outputs": [
        {
          "output_type": "execute_result",
          "data": {
            "text/plain": [
              "6"
            ]
          },
          "metadata": {},
          "execution_count": 5
        }
      ]
    },
    {
      "cell_type": "code",
      "source": [
        "def recursive_factorial(n):\n",
        "  if n == 1:\n",
        "    return 1\n",
        "  else:\n",
        "    return n * (recursive_factorial(n-1))\n",
        "\n",
        "recursive_factorial(4)"
      ],
      "metadata": {
        "colab": {
          "base_uri": "https://localhost:8080/"
        },
        "id": "LzbStZEt3MeO",
        "outputId": "d2839fc4-84e2-4f0a-92ec-47bdf01225b8"
      },
      "execution_count": null,
      "outputs": [
        {
          "output_type": "execute_result",
          "data": {
            "text/plain": [
              "24"
            ]
          },
          "metadata": {},
          "execution_count": 6
        }
      ]
    },
    {
      "cell_type": "code",
      "source": [
        "# 0, 1, 1, 2, 3, 5, 8, 13, 21, 34\n",
        "# Inductive case: n = f(n-1) + f(n-2)\n",
        "# Base cases: n = 0 and n = 1\n",
        "\n",
        "def fibonacci(n):\n",
        "  if n == 0 or n == 1:\n",
        "    return 1\n",
        "  else:\n",
        "    return fibonacci(n-1) + fibonacci(n-2)\n",
        "\n",
        "for i in range(8):\n",
        "  print(fibonacci(i), end =' ')"
      ],
      "metadata": {
        "colab": {
          "base_uri": "https://localhost:8080/"
        },
        "id": "u2Grk0Mc3PCq",
        "outputId": "c4775e01-5508-491a-a37a-56371214dd62"
      },
      "execution_count": null,
      "outputs": [
        {
          "output_type": "stream",
          "name": "stdout",
          "text": [
            "1 1 2 3 5 8 13 21 "
          ]
        }
      ]
    },
    {
      "cell_type": "code",
      "source": [
        "try:\n",
        "  a = float(input('Enter a numerator: '))\n",
        "  b = float(input('Enter a denominator: '))\n",
        "  print(a/b)\n",
        "  print('Division Complete')\n",
        "except:\n",
        "  print('Error Occured')"
      ],
      "metadata": {
        "colab": {
          "base_uri": "https://localhost:8080/"
        },
        "id": "cJQ4P87Ds_tW",
        "outputId": "e803d569-e6cc-4f0f-85a0-6a8b7d336f07"
      },
      "execution_count": 1,
      "outputs": [
        {
          "output_type": "stream",
          "name": "stdout",
          "text": [
            "Enter a numerator: 10\n",
            "Enter a denominator: 2\n",
            "5.0\n",
            "Division Complete\n"
          ]
        }
      ]
    },
    {
      "cell_type": "code",
      "source": [
        "try:\n",
        "  a = float(input('Enter a numerator: '))\n",
        "  b = float(input('Enter a denominator: '))\n",
        "  print(a/b)\n",
        "  print('Division Complete')\n",
        "except ZeroDivisionError:\n",
        "  print('Denominator is zero')"
      ],
      "metadata": {
        "colab": {
          "base_uri": "https://localhost:8080/"
        },
        "id": "52Bci1mLtPip",
        "outputId": "62590329-356c-4c23-fe78-da53fa51818d"
      },
      "execution_count": 2,
      "outputs": [
        {
          "output_type": "stream",
          "name": "stdout",
          "text": [
            "Enter a numerator: 5\n",
            "Enter a denominator: 0\n",
            "Denominator is zero\n"
          ]
        }
      ]
    },
    {
      "cell_type": "code",
      "source": [
        "try:\n",
        "  a = float(input('Enter a numerator: '))\n",
        "  b = float(input('Enter a denominator: '))\n",
        "  print(a/b)\n",
        "  print('Division Complete')\n",
        "except ZeroDivisionError:\n",
        "  print('Denominator is zero')\n",
        "except ValueError:\n",
        "  print('Incompatible Input Type; cannot be cast to numeric')\n",
        "\n",
        "print('Program End')"
      ],
      "metadata": {
        "colab": {
          "base_uri": "https://localhost:8080/"
        },
        "id": "VK2BDi-PtaqA",
        "outputId": "20c80c60-ea78-4e4f-f5a8-ef3f968c060e"
      },
      "execution_count": 3,
      "outputs": [
        {
          "output_type": "stream",
          "name": "stdout",
          "text": [
            "Enter a numerator: 5\n",
            "Enter a denominator: 0\n",
            "Denominator is zero\n",
            "Program End\n"
          ]
        }
      ]
    },
    {
      "cell_type": "code",
      "source": [
        "try:\n",
        "  a = float(input('Enter a numerator: '))\n",
        "  b = float(input('Enter a denominator: '))\n",
        "  print(a/b)\n",
        "  print('Division Complete')\n",
        "except ZeroDivisionError:\n",
        "  print('Denominator is zero')\n",
        "except ValueError:\n",
        "  print('Incompatible Input Type; cannot be cast to numeric')\n",
        "except:\n",
        "  print('Unknown Error')\n",
        "\n",
        "print('Program End')"
      ],
      "metadata": {
        "colab": {
          "base_uri": "https://localhost:8080/"
        },
        "id": "LOsT7fH3tpXs",
        "outputId": "7295497c-db0a-4553-da21-52855d09ff8b"
      },
      "execution_count": 4,
      "outputs": [
        {
          "output_type": "stream",
          "name": "stdout",
          "text": [
            "Enter a numerator: 5\n",
            "Enter a denominator: 0\n",
            "Denominator is zero\n",
            "Program End\n"
          ]
        }
      ]
    },
    {
      "cell_type": "code",
      "source": [
        "l = [1,3,5,7,9]\n",
        "\n",
        "try:\n",
        "  idx = int(input('Enter index: '))\n",
        "  print(l[idx])\n",
        "except TypeError:\n",
        "  print('Index must be an int')\n",
        "except IndexError:\n",
        "  print('Index out of bounds')\n",
        "except:\n",
        "  print('Unknown Error')"
      ],
      "metadata": {
        "colab": {
          "base_uri": "https://localhost:8080/"
        },
        "id": "ygXWaIU4txLp",
        "outputId": "86ff9b1d-7691-43c4-a55d-c95ec0e93e4f"
      },
      "execution_count": 5,
      "outputs": [
        {
          "output_type": "stream",
          "name": "stdout",
          "text": [
            "Enter index: 45\n",
            "Index out of bounds\n"
          ]
        }
      ]
    },
    {
      "cell_type": "code",
      "source": [
        "def calc_average(alist):\n",
        "  try:\n",
        "    return sum(alist)/len(alist)\n",
        "  except ZeroDivisionError:\n",
        "    print('There is no list')\n",
        "    return float('nan')\n",
        "  except TypeError:\n",
        "    print('List needs to be numerical')\n",
        "    return None\n",
        "\n",
        "l = [1,'2',3]\n",
        "calc_average(l)"
      ],
      "metadata": {
        "colab": {
          "base_uri": "https://localhost:8080/"
        },
        "id": "qY-ATZQnuOym",
        "outputId": "23dab733-cc2a-479f-cab5-d0b7710b2e33"
      },
      "execution_count": 6,
      "outputs": [
        {
          "output_type": "stream",
          "name": "stdout",
          "text": [
            "List needs to be numerical\n"
          ]
        }
      ]
    }
  ]
}