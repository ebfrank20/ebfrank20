{
  "nbformat": 4,
  "nbformat_minor": 0,
  "metadata": {
    "colab": {
      "provenance": [],
      "authorship_tag": "ABX9TyPOaRoEnYE1TuxXPL3xfqQW",
      "include_colab_link": true
    },
    "kernelspec": {
      "name": "python3",
      "display_name": "Python 3"
    },
    "language_info": {
      "name": "python"
    }
  },
  "cells": [
    {
      "cell_type": "markdown",
      "metadata": {
        "id": "view-in-github",
        "colab_type": "text"
      },
      "source": [
        "<a href=\"https://colab.research.google.com/github/ebfrank20/ebfrank20/blob/main/In_Class_Activity_Date_String.ipynb\" target=\"_parent\"><img src=\"https://colab.research.google.com/assets/colab-badge.svg\" alt=\"Open In Colab\"/></a>"
      ]
    },
    {
      "cell_type": "code",
      "execution_count": null,
      "metadata": {
        "id": "y107judZjki6"
      },
      "outputs": [],
      "source": [
        "# write a program that takes as input from the keyboard a string that corresponds to a date (e.g. 02/20/2024) in the format: MM/DD/YYYY"
      ]
    },
    {
      "cell_type": "code",
      "source": [
        "s=input(\"enter a date in format MM/DD/YYYY: \")\n",
        "month=s[0:2]\n",
        "day=s[3:5]\n",
        "year=s[6:10]\n",
        "print(\"month:\", month)\n",
        "print(\"day:\", day)\n",
        "print(\"year:\", year)"
      ],
      "metadata": {
        "colab": {
          "base_uri": "https://localhost:8080/"
        },
        "id": "o7kzlFJrxZJY",
        "outputId": "8cf77af6-833c-492b-dce7-b76f16c5237f"
      },
      "execution_count": 4,
      "outputs": [
        {
          "output_type": "stream",
          "name": "stdout",
          "text": [
            "enter a date in format MM/DD/YYYY: 03/06/2002\n",
            "month: 03\n",
            "day: 06\n",
            "year: 2002\n"
          ]
        }
      ]
    }
  ]
}