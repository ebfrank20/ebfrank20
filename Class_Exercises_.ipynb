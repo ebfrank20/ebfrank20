{
  "nbformat": 4,
  "nbformat_minor": 0,
  "metadata": {
    "colab": {
      "provenance": [],
      "authorship_tag": "ABX9TyPIVoZYbC24cFUS5NFHITRJ",
      "include_colab_link": true
    },
    "kernelspec": {
      "name": "python3",
      "display_name": "Python 3"
    },
    "language_info": {
      "name": "python"
    }
  },
  "cells": [
    {
      "cell_type": "markdown",
      "metadata": {
        "id": "view-in-github",
        "colab_type": "text"
      },
      "source": [
        "<a href=\"https://colab.research.google.com/github/ebfrank20/ebfrank20/blob/main/Class_Exercises_.ipynb\" target=\"_parent\"><img src=\"https://colab.research.google.com/assets/colab-badge.svg\" alt=\"Open In Colab\"/></a>"
      ]
    },
    {
      "cell_type": "code",
      "execution_count": 3,
      "metadata": {
        "colab": {
          "base_uri": "https://localhost:8080/"
        },
        "id": "KQgqLWvQAVc3",
        "outputId": "c584b45d-82a0-4457-e917-8af9c3081722"
      },
      "outputs": [
        {
          "output_type": "stream",
          "name": "stdout",
          "text": [
            "Enter your choice (rock, paper, or scissors): rock\n",
            "You chose: rock\n",
            "Computer chose: paper\n",
            "Computer wins!\n"
          ]
        }
      ],
      "source": [
        "import random\n",
        "\n",
        "user_choice = input(\"Enter your choice (rock, paper, or scissors): \")\n",
        "computer_choice = random.choice([\"rock\", \"paper\", \"scissors\"])\n",
        "\n",
        "print(f\"You chose: {user_choice}\")\n",
        "print(f\"Computer chose: {computer_choice}\")\n",
        "\n",
        "if user_choice == computer_choice:\n",
        "    print(\"It's a tie!\")\n",
        "elif (\n",
        "    (user_choice == \"rock\" and computer_choice == \"scissors\") or\n",
        "    (user_choice == \"paper\" and computer_choice == \"rock\") or\n",
        "    (user_choice == \"scissors\" and computer_choice == \"paper\")\n",
        "):\n",
        "    print(\"You win!\")\n",
        "else:\n",
        "    print(\"Computer wins!\")"
      ]
    },
    {
      "cell_type": "code",
      "source": [
        "year = int(input(\"Enter a year: \"))\n",
        "\n",
        "if (year % 4 == 0 and year % 100 != 0) or (year % 400 == 0):\n",
        "    print(f\"{year} is a leap year!\")\n",
        "else:\n",
        "    print(f\"{year} is not a leap year.\")"
      ],
      "metadata": {
        "id": "wEPNd6mNAcm8",
        "colab": {
          "base_uri": "https://localhost:8080/"
        },
        "outputId": "834f2b10-bd0f-4f03-8cd6-cdc29096c4e4"
      },
      "execution_count": 4,
      "outputs": [
        {
          "output_type": "stream",
          "name": "stdout",
          "text": [
            "Enter a year: 2003\n",
            "2003 is not a leap year.\n"
          ]
        }
      ]
    },
    {
      "cell_type": "code",
      "source": [
        "def calculate_parking_fee(hours_parked):\n",
        "    base_fee = 5\n",
        "    hourly_rate = 2.5\n",
        "    minimum_fee = 10\n",
        "    maximum_fee = 20\n",
        "\n",
        "\n",
        "    fee = base_fee + max((hours_parked - 1) * hourly_rate, 0)\n",
        "\n",
        "\n",
        "    fee = max(minimum_fee, min(fee, maximum_fee))\n",
        "\n",
        "    return fee\n",
        "\n",
        "\n",
        "print(\"{:<15}{}\".format(\"Hours Parked\", \"Parking Fee\"))\n",
        "print(\"-\" * 30)\n",
        "\n",
        "for hours in range(1, 9):\n",
        "    fee = calculate_parking_fee(hours)\n",
        "    print(\"{:<15}{}\".format(hours, \"${:.2f}\".format(fee)))"
      ],
      "metadata": {
        "colab": {
          "base_uri": "https://localhost:8080/"
        },
        "id": "PYz0LAbYA4rd",
        "outputId": "d48f0935-bc0c-4755-8bb7-5e5bec59b8bb"
      },
      "execution_count": 5,
      "outputs": [
        {
          "output_type": "stream",
          "name": "stdout",
          "text": [
            "Hours Parked   Parking Fee\n",
            "------------------------------\n",
            "1              $10.00\n",
            "2              $10.00\n",
            "3              $10.00\n",
            "4              $12.50\n",
            "5              $15.00\n",
            "6              $17.50\n",
            "7              $20.00\n",
            "8              $20.00\n"
          ]
        }
      ]
    }
  ]
}